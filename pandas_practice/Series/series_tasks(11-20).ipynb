{
 "cells": [
  {
   "cell_type": "code",
   "execution_count": 1,
   "id": "c09d58ff",
   "metadata": {},
   "outputs": [],
   "source": [
    "import pandas as pd\n",
    "import numpy as np"
   ]
  },
  {
   "cell_type": "code",
   "execution_count": 9,
   "id": "9f033363",
   "metadata": {},
   "outputs": [
    {
     "data": {
      "text/plain": [
       "<bound method Series.sort_values of 0       100\n",
       "1       200\n",
       "2    Python\n",
       "3    300.12\n",
       "4       400\n",
       "dtype: object>"
      ]
     },
     "execution_count": 9,
     "metadata": {},
     "output_type": "execute_result"
    }
   ],
   "source": [
    "#11\n",
    "'''Write a Pandas program to sort a given Series'''\n",
    "ser = pd.Series([100,200,'Python',300.12,400])\n",
    "ser.sort_values"
   ]
  },
  {
   "cell_type": "code",
   "execution_count": 22,
   "id": "d0afa2b2",
   "metadata": {},
   "outputs": [
    {
     "data": {
      "text/plain": [
       "0       100\n",
       "1       200\n",
       "2    Python\n",
       "3    300.12\n",
       "4       400\n",
       "0       500\n",
       "1       php\n",
       "dtype: object"
      ]
     },
     "execution_count": 22,
     "metadata": {},
     "output_type": "execute_result"
    }
   ],
   "source": [
    "#12\n",
    "'''Write a Pandas program to add some data to an existing Series'''\n",
    "ser1 = pd.Series([500,'php'])\n",
    "ser.append(ser1)"
   ]
  },
  {
   "cell_type": "code",
   "execution_count": 25,
   "id": "0a4fe924",
   "metadata": {},
   "outputs": [
    {
     "name": "stdout",
     "output_type": "stream",
     "text": [
      "enter :5\n"
     ]
    },
    {
     "data": {
      "text/plain": [
       "0    0\n",
       "1    1\n",
       "2    2\n",
       "3    3\n",
       "4    4\n",
       "dtype: int64"
      ]
     },
     "execution_count": 25,
     "metadata": {},
     "output_type": "execute_result"
    }
   ],
   "source": [
    "#13\n",
    "''' Write a Pandas program to create a subset of a given series based on value and condition'''\n",
    "ser = pd.Series(range(10))\n",
    "n = int(input('enter :'))\n",
    "ser = ser[ser<n]\n",
    "ser"
   ]
  },
  {
   "cell_type": "code",
   "execution_count": 39,
   "id": "bfe1658c",
   "metadata": {},
   "outputs": [
    {
     "data": {
      "text/plain": [
       "b    2\n",
       "a    1\n",
       "c    3\n",
       "d    4\n",
       "e    5\n",
       "dtype: int64"
      ]
     },
     "execution_count": 39,
     "metadata": {},
     "output_type": "execute_result"
    }
   ],
   "source": [
    "#14\n",
    "'''Write a Pandas program to change the order of index of a given series'''\n",
    "ser = pd.Series(range(1,6),index = ['a','b','c','d','e'])\n",
    "ser.reindex(['b','a','c','d','e'])"
   ]
  },
  {
   "cell_type": "code",
   "execution_count": 41,
   "id": "90cf0398",
   "metadata": {},
   "outputs": [
    {
     "name": "stdout",
     "output_type": "stream",
     "text": [
      "mean : 4.818181818181818\n",
      "standard deviation : 2.522624895547565\n"
     ]
    }
   ],
   "source": [
    "#15\n",
    "'''Write a Pandas program to create the mean and standard deviation of the data of a given Series.'''\n",
    "ser = pd.Series([1,2,3,4,5,6,7,8,9,5,3])\n",
    "print('mean :',ser.mean())\n",
    "print('standard deviation :',ser.std())"
   ]
  },
  {
   "cell_type": "code",
   "execution_count": 71,
   "id": "259b4e35",
   "metadata": {},
   "outputs": [
    {
     "data": {
      "text/plain": [
       "0    1\n",
       "2    3\n",
       "4    5\n",
       "dtype: int64"
      ]
     },
     "execution_count": 71,
     "metadata": {},
     "output_type": "execute_result"
    }
   ],
   "source": [
    "#16\n",
    "'''Write a Pandas program to get the items of a given series not present in another given series'''\n",
    "ser1 = pd.Series(range(1,6))\n",
    "ser2 = pd.Series(range(2,11,2))\n",
    "ser1[~ser1.isin(ser2)]"
   ]
  },
  {
   "cell_type": "code",
   "execution_count": 74,
   "id": "f2105a43",
   "metadata": {},
   "outputs": [
    {
     "data": {
      "text/plain": [
       "0     1\n",
       "2     3\n",
       "4     5\n",
       "2     6\n",
       "3     8\n",
       "4    10\n",
       "dtype: int64"
      ]
     },
     "execution_count": 74,
     "metadata": {},
     "output_type": "execute_result"
    }
   ],
   "source": [
    "#17\n",
    "'''Write a Pandas program to get the items which are not common of two given series'''\n",
    "result = ser1[~ser1.isin(ser2)]\n",
    "result.append(ser2[~ser2.isin(ser1)])"
   ]
  },
  {
   "cell_type": "code",
   "execution_count": 79,
   "id": "22425836",
   "metadata": {},
   "outputs": [
    {
     "data": {
      "text/plain": [
       "0.00     1.00\n",
       "0.25     5.75\n",
       "0.50    10.50\n",
       "0.75    15.25\n",
       "1.00    20.00\n",
       "dtype: float64"
      ]
     },
     "execution_count": 79,
     "metadata": {},
     "output_type": "execute_result"
    }
   ],
   "source": [
    "#18\n",
    "'''Write a Pandas program to compute the minimum,\n",
    "25th percentile, median, 75th, and maximum of a given series'''\n",
    "ser = pd.Series(np.linspace(1,20,14))\n",
    "ser.quantile([0,0.25,0.5,0.75,1])"
   ]
  },
  {
   "cell_type": "code",
   "execution_count": 132,
   "id": "872dcc1b",
   "metadata": {},
   "outputs": [
    {
     "data": {
      "text/plain": [
       "9    9\n",
       "7    6\n",
       "8    6\n",
       "0    5\n",
       "4    5\n",
       "5    4\n",
       "6    4\n",
       "1    4\n",
       "2    4\n",
       "3    3\n",
       "dtype: int64"
      ]
     },
     "execution_count": 132,
     "metadata": {},
     "output_type": "execute_result"
    }
   ],
   "source": [
    "#19\n",
    "'''Write a Pandas program to calculate the frequency counts of each unique value of a given series'''\n",
    "ser = pd.Series(np.random.randint(10, size=50))\n",
    "ser.value_counts()"
   ]
  },
  {
   "cell_type": "code",
   "execution_count": 133,
   "id": "c07c2a98",
   "metadata": {
    "scrolled": true
   },
   "outputs": [
    {
     "data": {
      "text/plain": [
       "other    41\n",
       "9         9\n",
       "dtype: int64"
      ]
     },
     "execution_count": 133,
     "metadata": {},
     "output_type": "execute_result"
    }
   ],
   "source": [
    "#20\n",
    "'''Write a Pandas program to display most frequent value in\n",
    "a given series and replace everything else as 'Other' in the series.'''\n",
    "x = ser.value_counts().index[0]\n",
    "result = pd.Series(ser[ser != x].replace(list(ser[ser != x]),'other')).append(ser[ser == x]).sort_index()"
   ]
  }
 ],
 "metadata": {
  "kernelspec": {
   "display_name": "Python 3 (ipykernel)",
   "language": "python",
   "name": "python3"
  },
  "language_info": {
   "codemirror_mode": {
    "name": "ipython",
    "version": 3
   },
   "file_extension": ".py",
   "mimetype": "text/x-python",
   "name": "python",
   "nbconvert_exporter": "python",
   "pygments_lexer": "ipython3",
   "version": "3.9.6"
  }
 },
 "nbformat": 4,
 "nbformat_minor": 5
}
