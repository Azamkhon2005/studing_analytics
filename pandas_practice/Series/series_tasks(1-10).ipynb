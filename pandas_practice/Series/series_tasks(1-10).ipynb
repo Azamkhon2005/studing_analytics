{
 "cells": [
  {
   "cell_type": "code",
   "execution_count": 1,
   "id": "7a7156e5",
   "metadata": {},
   "outputs": [],
   "source": [
    "import pandas as pd"
   ]
  },
  {
   "cell_type": "code",
   "execution_count": 8,
   "id": "163b9412",
   "metadata": {
    "scrolled": true
   },
   "outputs": [
    {
     "data": {
      "text/plain": [
       "0    1\n",
       "1    2\n",
       "2    3\n",
       "3    4\n",
       "4    5\n",
       "dtype: int64"
      ]
     },
     "execution_count": 8,
     "metadata": {},
     "output_type": "execute_result"
    }
   ],
   "source": [
    "#1\n",
    "'''Write a Pandas program to create and display a one-dimensional array-like object \n",
    "containing an array of data using Pandas module'''\n",
    "ser = pd.Series(range(1,6))\n",
    "ser"
   ]
  },
  {
   "cell_type": "code",
   "execution_count": 10,
   "id": "2240b6c9",
   "metadata": {},
   "outputs": [
    {
     "data": {
      "text/plain": [
       "[1, 2, 3, 4, 5]"
      ]
     },
     "execution_count": 10,
     "metadata": {},
     "output_type": "execute_result"
    }
   ],
   "source": [
    "#2\n",
    "'''Write a Pandas program to convert a Panda module Series to Python list and it's type'''\n",
    "ser.to_list()"
   ]
  },
  {
   "cell_type": "code",
   "execution_count": 22,
   "id": "cc0a8edf",
   "metadata": {
    "scrolled": true
   },
   "outputs": [
    {
     "name": "stdout",
     "output_type": "stream",
     "text": [
      "Add :\n",
      "0     3\n",
      "1     7\n",
      "2    11\n",
      "3    15\n",
      "4    19\n",
      "dtype: int64\n",
      "Subtract :\n",
      "0    1\n",
      "1    1\n",
      "2    1\n",
      "3    1\n",
      "4    1\n",
      "dtype: int64\n",
      "Multiple :\n",
      "0     2\n",
      "1    12\n",
      "2    30\n",
      "3    56\n",
      "4    90\n",
      "dtype: int64\n",
      "Divide :\n",
      "0    2.000000\n",
      "1    1.333333\n",
      "2    1.200000\n",
      "3    1.142857\n",
      "4    1.111111\n",
      "dtype: float64\n"
     ]
    }
   ],
   "source": [
    "#3\n",
    "'''Write a Pandas program to add, subtract, multiple and divide two Pandas Series'''\n",
    "ser1 = pd.Series([2, 4, 6, 8, 10])\n",
    "ser2 = pd.Series([1, 3, 5, 7, 9])\n",
    "print(\"Add :\")\n",
    "print(ser1+ser2)\n",
    "print(\"Subtract :\")\n",
    "print(ser1-ser2)\n",
    "print(\"Multiple :\")\n",
    "print(ser1*ser2)\n",
    "print(\"Divide :\")\n",
    "print(ser1/ser2)"
   ]
  },
  {
   "cell_type": "code",
   "execution_count": 28,
   "id": "7653bf65",
   "metadata": {
    "scrolled": true
   },
   "outputs": [
    {
     "name": "stdout",
     "output_type": "stream",
     "text": [
      "> :\n",
      "0    True\n",
      "1    True\n",
      "2    True\n",
      "3    True\n",
      "4    True\n",
      "dtype: bool\n",
      "= :\n",
      "0    False\n",
      "1    False\n",
      "2    False\n",
      "3    False\n",
      "4    False\n",
      "dtype: bool\n",
      "< :\n",
      "0    False\n",
      "1    False\n",
      "2    False\n",
      "3    False\n",
      "4    False\n",
      "dtype: bool\n"
     ]
    }
   ],
   "source": [
    "#4\n",
    "'''Write a Pandas program to compare the elements of the two Pandas Series'''\n",
    "print(\"> :\")\n",
    "print(ser1>ser2)\n",
    "print(\"= :\")\n",
    "print(ser1==ser2)\n",
    "print(\"< :\")\n",
    "print(ser1<ser2)"
   ]
  },
  {
   "cell_type": "code",
   "execution_count": 31,
   "id": "995e89cd",
   "metadata": {},
   "outputs": [
    {
     "data": {
      "text/plain": [
       "a    100\n",
       "b    200\n",
       "c    300\n",
       "d    400\n",
       "e    800\n",
       "dtype: int64"
      ]
     },
     "execution_count": 31,
     "metadata": {},
     "output_type": "execute_result"
    }
   ],
   "source": [
    "#5 \n",
    "'''Write a Pandas program to convert a dictionary to a Pandas series.'''\n",
    "dic = {'a': 100, 'b': 200, 'c': 300, 'd': 400, 'e': 800}\n",
    "ser = pd.Series(data=dic.values(),index = dic.keys())\n",
    "ser"
   ]
  },
  {
   "cell_type": "code",
   "execution_count": 37,
   "id": "888bfbcb",
   "metadata": {},
   "outputs": [
    {
     "data": {
      "text/plain": [
       "0    10\n",
       "1    20\n",
       "2    30\n",
       "3    40\n",
       "4    50\n",
       "dtype: int32"
      ]
     },
     "execution_count": 37,
     "metadata": {},
     "output_type": "execute_result"
    }
   ],
   "source": [
    "#6\n",
    "'''Write a Pandas program to convert a NumPy array to a Pandas series'''\n",
    "import numpy as np\n",
    "arr = np.array([10,20,30,40,50])\n",
    "ser = pd.Series(arr)\n",
    "ser"
   ]
  },
  {
   "cell_type": "code",
   "execution_count": 49,
   "id": "6d81bb92",
   "metadata": {},
   "outputs": [
    {
     "data": {
      "text/plain": [
       "0    100.00\n",
       "1    200.00\n",
       "2       NaN\n",
       "3    300.12\n",
       "4    400.00\n",
       "dtype: float64"
      ]
     },
     "execution_count": 49,
     "metadata": {},
     "output_type": "execute_result"
    }
   ],
   "source": [
    "#7 \n",
    "'''Write a Pandas program to change the data type of given a column or a Series. Go to the editor\n",
    "Sample Series:'''\n",
    "ser1 = pd.Series([100,200,'Python',300.12,400])\n",
    "ser2 = pd.to_numeric(ser1,errors = 'coerce')\n",
    "ser2"
   ]
  },
  {
   "cell_type": "code",
   "execution_count": 60,
   "id": "219accbf",
   "metadata": {},
   "outputs": [
    {
     "data": {
      "text/plain": [
       "0     1\n",
       "1     2\n",
       "2     3\n",
       "3     4\n",
       "4     7\n",
       "5    11\n",
       "Name: col1, dtype: int64"
      ]
     },
     "execution_count": 60,
     "metadata": {},
     "output_type": "execute_result"
    }
   ],
   "source": [
    "#8\n",
    "'''Write a Pandas program to convert the first column of a DataFrame as a Series'''\n",
    "df = pd.DataFrame({'col1':[1,2,3,4,7,11],\n",
    "                  'col2':[4,5,6,9,5,0],\n",
    "                  'col3':[7,5,8,12,1,11]})\n",
    "col1 = df.iloc[:,0]\n",
    "col1"
   ]
  },
  {
   "cell_type": "code",
   "execution_count": 71,
   "id": "0d6df206",
   "metadata": {
    "scrolled": true
   },
   "outputs": [
    {
     "data": {
      "text/plain": [
       "array([100, 200, 'Python', 300.12, 400], dtype=object)"
      ]
     },
     "execution_count": 71,
     "metadata": {},
     "output_type": "execute_result"
    }
   ],
   "source": [
    "#9\n",
    "'''Write a Pandas program to convert a given Series to an array'''\n",
    "ser = pd.Series([100,200,'Python',300.12,400])\n",
    "ser.to_numpy()"
   ]
  },
  {
   "cell_type": "code",
   "execution_count": 111,
   "id": "dfb436d4",
   "metadata": {},
   "outputs": [
    {
     "data": {
      "text/plain": [
       "0       Red\n",
       "1     Green\n",
       "2     White\n",
       "3       Red\n",
       "4     Black\n",
       "5    Yellow\n",
       "dtype: object"
      ]
     },
     "execution_count": 111,
     "metadata": {},
     "output_type": "execute_result"
    }
   ],
   "source": [
    "#10\n",
    "'''Write a Pandas program to convert Series of lists to one Series'''\n",
    "ser =  pd.Series([['Red', 'Green', 'White'],['Red', 'Black'],['Yellow']])\n",
    "ser = ser.apply(pd.Series).stack().reset_index(drop=True)\n",
    "ser"
   ]
  }
 ],
 "metadata": {
  "kernelspec": {
   "display_name": "Python 3 (ipykernel)",
   "language": "python",
   "name": "python3"
  },
  "language_info": {
   "codemirror_mode": {
    "name": "ipython",
    "version": 3
   },
   "file_extension": ".py",
   "mimetype": "text/x-python",
   "name": "python",
   "nbconvert_exporter": "python",
   "pygments_lexer": "ipython3",
   "version": "3.9.6"
  }
 },
 "nbformat": 4,
 "nbformat_minor": 5
}
