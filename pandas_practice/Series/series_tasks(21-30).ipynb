{
 "cells": [
  {
   "cell_type": "code",
   "execution_count": 167,
   "id": "aeeb98f5",
   "metadata": {},
   "outputs": [],
   "source": [
    "import pandas as pd\n",
    "import numpy as np"
   ]
  },
  {
   "cell_type": "code",
   "execution_count": 168,
   "id": "6a0d9830",
   "metadata": {},
   "outputs": [
    {
     "data": {
      "text/plain": [
       "Int64Index([3, 7], dtype='int64')"
      ]
     },
     "execution_count": 168,
     "metadata": {},
     "output_type": "execute_result"
    }
   ],
   "source": [
    "# 21\n",
    "'''Write a Pandas program to find the positions of numbers that are multiples of 5 of a given series.'''\n",
    "s = pd.Series(np.random.randint(0,20,10))\n",
    "s[s%5==0].index"
   ]
  },
  {
   "cell_type": "code",
   "execution_count": 169,
   "id": "38b3cefc",
   "metadata": {},
   "outputs": [
    {
     "data": {
      "text/plain": [
       "3    15\n",
       "2     4\n",
       "7    15\n",
       "4     6\n",
       "dtype: int32"
      ]
     },
     "execution_count": 169,
     "metadata": {},
     "output_type": "execute_result"
    }
   ],
   "source": [
    "#22\n",
    "'''Write a Pandas program to extract items at given positions of a given series'''\n",
    "s.take([3,2,7,4])"
   ]
  },
  {
   "cell_type": "code",
   "execution_count": 170,
   "id": "278be74f",
   "metadata": {},
   "outputs": [
    {
     "data": {
      "text/plain": [
       "Int64Index([0, 2, 4, 6, 8], dtype='int64')"
      ]
     },
     "execution_count": 170,
     "metadata": {},
     "output_type": "execute_result"
    }
   ],
   "source": [
    "#23\n",
    "'''Write a Pandas program to get the positions of items of a given series in another given series'''\n",
    "s1 = pd.Series(range(1,11))\n",
    "s2 = pd.Series(range(1,11,2))\n",
    "s1[s1.isin(s2)].index"
   ]
  },
  {
   "cell_type": "code",
   "execution_count": 171,
   "id": "07fcfdcf",
   "metadata": {},
   "outputs": [
    {
     "data": {
      "text/plain": [
       "0       Php\n",
       "1    Python\n",
       "2      Java\n",
       "3        C#\n",
       "dtype: object"
      ]
     },
     "execution_count": 171,
     "metadata": {},
     "output_type": "execute_result"
    }
   ],
   "source": [
    "#24\n",
    "'''Write a Pandas program convert the first and last character of each word \n",
    "to upper case in each word of a given series'''\n",
    "s = pd.Series(['php','python','java','c#'])\n",
    "s = s.str.capitalize()\n",
    "s"
   ]
  },
  {
   "cell_type": "code",
   "execution_count": 172,
   "id": "770fd73d",
   "metadata": {},
   "outputs": [
    {
     "data": {
      "text/plain": [
       "0    3\n",
       "1    6\n",
       "2    4\n",
       "3    2\n",
       "dtype: int64"
      ]
     },
     "execution_count": 172,
     "metadata": {},
     "output_type": "execute_result"
    }
   ],
   "source": [
    "#25\n",
    "'''Write a Pandas program to calculate the number of characters in each word in a given series'''\n",
    "s.str.len()"
   ]
  },
  {
   "cell_type": "code",
   "execution_count": 179,
   "id": "c0fdb665",
   "metadata": {},
   "outputs": [
    {
     "data": {
      "text/plain": [
       "0   2015-01-01 00:00:00\n",
       "1   2016-10-02 00:00:00\n",
       "2   2018-03-07 00:00:00\n",
       "3   2014-05-06 00:00:00\n",
       "4   2016-04-12 00:00:00\n",
       "5   2019-04-06 11:20:00\n",
       "dtype: datetime64[ns]"
      ]
     },
     "execution_count": 179,
     "metadata": {},
     "output_type": "execute_result"
    }
   ],
   "source": [
    "#28\n",
    "'''Write a Pandas program to convert a series of date strings to a timeseries'''\n",
    "s = pd.Series(['01 Jan 2015','10-02-2016','20180307','2014/05/06','2016-04-12','2019-04-06T11:20'])\n",
    "pd.to_datetime(s)"
   ]
  },
  {
   "cell_type": "code",
   "execution_count": 203,
   "id": "ab82f88d",
   "metadata": {},
   "outputs": [
    {
     "name": "stdout",
     "output_type": "stream",
     "text": [
      "Day of month: [1, 2, 7, 6, 12, 6]\n",
      "Day of year: [1, 276, 66, 126, 103, 96]\n",
      "Week number: [1, 39, 10, 19, 15, 14]\n",
      "Day of week: ['Thursday', 'Sunday', 'Wednesday', 'Tuesday', 'Tuesday', 'Saturday']\n"
     ]
    },
    {
     "name": "stderr",
     "output_type": "stream",
     "text": [
      "C:\\Users\\asus\\AppData\\Local\\Temp/ipykernel_732/4196441487.py:7: FutureWarning: Series.dt.weekofyear and Series.dt.week have been deprecated.  Please use Series.dt.isocalendar().week instead.\n",
      "  print('Week number:',list(s.dt.week))\n"
     ]
    }
   ],
   "source": [
    "#28\n",
    "'''Write a Pandas program to get the day of month, day of year,\n",
    "week number and day of week from a given series of date strings'''\n",
    "s = pd.to_datetime(s)\n",
    "print('Day of month:',list(s.dt.day))\n",
    "print('Day of year:',list(s.dt.dayofyear))\n",
    "print('Week number:',list(s.dt.week))\n",
    "print('Day of week:',list(s.dt.day_name()))"
   ]
  },
  {
   "cell_type": "code",
   "execution_count": 215,
   "id": "05794e16",
   "metadata": {},
   "outputs": [
    {
     "data": {
      "text/plain": [
       "0   2015-01-11\n",
       "1   2016-02-11\n",
       "2   2017-03-11\n",
       "3   2018-04-11\n",
       "4   2019-05-11\n",
       "dtype: datetime64[ns]"
      ]
     },
     "execution_count": 215,
     "metadata": {},
     "output_type": "execute_result"
    }
   ],
   "source": [
    "#29\n",
    "'''Write a Pandas program to convert year-month string to dates adding a specified day of the month'''\n",
    "s = pd.Series(['Jan 2015','Feb 2016','Mar 2017','Apr 2018','May 2019'])\n",
    "s = pd.to_datetime(s)\n",
    "s.apply(lambda x:x.replace(day=11))"
   ]
  },
  {
   "cell_type": "code",
   "execution_count": 219,
   "id": "d660ab91",
   "metadata": {},
   "outputs": [
    {
     "data": {
      "text/plain": [
       "1     Green\n",
       "2    Orange\n",
       "4    Yellow\n",
       "5     White\n",
       "dtype: object"
      ]
     },
     "execution_count": 219,
     "metadata": {},
     "output_type": "execute_result"
    }
   ],
   "source": [
    "#30\n",
    "'''Write a Pandas program to filter words from a given series that contain atleast two vowels'''\n",
    "s = pd.Series(['Red','Green','Orange','Pink','Yellow','White'])\n",
    "s[s.str.count('(?i)[aeiou]')>=2]"
   ]
  }
 ],
 "metadata": {
  "kernelspec": {
   "display_name": "Python 3 (ipykernel)",
   "language": "python",
   "name": "python3"
  },
  "language_info": {
   "codemirror_mode": {
    "name": "ipython",
    "version": 3
   },
   "file_extension": ".py",
   "mimetype": "text/x-python",
   "name": "python",
   "nbconvert_exporter": "python",
   "pygments_lexer": "ipython3",
   "version": "3.9.6"
  }
 },
 "nbformat": 4,
 "nbformat_minor": 5
}
