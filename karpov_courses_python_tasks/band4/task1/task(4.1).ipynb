{
 "cells": [
  {
   "cell_type": "code",
   "execution_count": 57,
   "id": "a8e68d06",
   "metadata": {},
   "outputs": [],
   "source": [
    "import pandas as pd\n",
    "import numpy as np"
   ]
  },
  {
   "cell_type": "code",
   "execution_count": 58,
   "id": "1a0e61d1",
   "metadata": {},
   "outputs": [
    {
     "data": {
      "text/html": [
       "<div>\n",
       "<style scoped>\n",
       "    .dataframe tbody tr th:only-of-type {\n",
       "        vertical-align: middle;\n",
       "    }\n",
       "\n",
       "    .dataframe tbody tr th {\n",
       "        vertical-align: top;\n",
       "    }\n",
       "\n",
       "    .dataframe thead th {\n",
       "        text-align: right;\n",
       "    }\n",
       "</style>\n",
       "<table border=\"1\" class=\"dataframe\">\n",
       "  <thead>\n",
       "    <tr style=\"text-align: right;\">\n",
       "      <th></th>\n",
       "      <th>client_id</th>\n",
       "      <th>sex</th>\n",
       "      <th>wealth</th>\n",
       "      <th>age</th>\n",
       "    </tr>\n",
       "  </thead>\n",
       "  <tbody>\n",
       "    <tr>\n",
       "      <th>0</th>\n",
       "      <td>NaN</td>\n",
       "      <td>NaN</td>\n",
       "      <td>None</td>\n",
       "      <td>58</td>\n",
       "    </tr>\n",
       "    <tr>\n",
       "      <th>1</th>\n",
       "      <td>3898.0</td>\n",
       "      <td>1.0</td>\n",
       "      <td>high</td>\n",
       "      <td>55</td>\n",
       "    </tr>\n",
       "    <tr>\n",
       "      <th>2</th>\n",
       "      <td>NaN</td>\n",
       "      <td>NaN</td>\n",
       "      <td>None</td>\n",
       "      <td>46</td>\n",
       "    </tr>\n",
       "    <tr>\n",
       "      <th>3</th>\n",
       "      <td>NaN</td>\n",
       "      <td>NaN</td>\n",
       "      <td>None</td>\n",
       "      <td>23</td>\n",
       "    </tr>\n",
       "    <tr>\n",
       "      <th>4</th>\n",
       "      <td>5736.0</td>\n",
       "      <td>0.0</td>\n",
       "      <td>high</td>\n",
       "      <td>44</td>\n",
       "    </tr>\n",
       "  </tbody>\n",
       "</table>\n",
       "</div>"
      ],
      "text/plain": [
       "   client_id  sex wealth age\n",
       "0        NaN  NaN   None  58\n",
       "1     3898.0  1.0   high  55\n",
       "2        NaN  NaN   None  46\n",
       "3        NaN  NaN   None  23\n",
       "4     5736.0  0.0   high  44"
      ]
     },
     "execution_count": 58,
     "metadata": {},
     "output_type": "execute_result"
    }
   ],
   "source": [
    "df = pd.DataFrame({\n",
    "    'client_id':[None,3898.0,None,None,5736.0],\n",
    "    'sex':[None,1.0,None,None,0.0],\n",
    "    'wealth':[None,'high',None,None,'high'],\n",
    "    'age':['58','55','46','23','44']\n",
    "})\n",
    "df"
   ]
  },
  {
   "cell_type": "code",
   "execution_count": 59,
   "id": "92c18a22",
   "metadata": {},
   "outputs": [
    {
     "data": {
      "text/plain": [
       "'df has 5 rows and 4 columns'"
      ]
     },
     "execution_count": 59,
     "metadata": {},
     "output_type": "execute_result"
    }
   ],
   "source": [
    "'''1) В переменной df находится датафрэйм. Ваша задача положить в переменную  df_shape строку с информацией сколько линий и столбцов он имеет в следующем виде:\n",
    "'df has y rows and x columns'\n",
    "где y – число строк, а x – число колонок.'''\n",
    "df_shape = f'df has {df.shape[0]} rows and {df.shape[1]} columns'\n",
    "df_shape"
   ]
  },
  {
   "cell_type": "code",
   "execution_count": 60,
   "id": "cb1553cc",
   "metadata": {},
   "outputs": [
    {
     "data": {
      "text/plain": [
       "client_id    3\n",
       "sex          3\n",
       "wealth       3\n",
       "age          0\n",
       "dtype: int64"
      ]
     },
     "execution_count": 60,
     "metadata": {},
     "output_type": "execute_result"
    }
   ],
   "source": [
    "'''2) Положите в переменную na_number серию, в которой для каждой колонки указано сколько ячеек\n",
    "содержат пропущенные значения.'''\n",
    "na_number = df.isnull().sum()\n",
    "na_number"
   ]
  },
  {
   "cell_type": "code",
   "execution_count": 61,
   "id": "3d5d9f86",
   "metadata": {},
   "outputs": [
    {
     "data": {
      "text/plain": [
       "client_id    float64\n",
       "sex          float64\n",
       "wealth        object\n",
       "age           object\n",
       "dtype: object"
      ]
     },
     "execution_count": 61,
     "metadata": {},
     "output_type": "execute_result"
    }
   ],
   "source": [
    "'''3) Сохраните в переменную df_types типы данных каждой колонки датафрэйма df.'''\n",
    "df_types = df.dtypes\n",
    "df_types"
   ]
  },
  {
   "cell_type": "code",
   "execution_count": 62,
   "id": "31b4f879",
   "metadata": {},
   "outputs": [],
   "source": [
    "'''4) Внезапно оказалось, что в переменной age значения хранятся в виде строк! \n",
    "Поменяйте тип значений на целочисленный в этой колонке датафрэйма df.'''\n",
    "df['age'] = df['age'].astype('int64')"
   ]
  },
  {
   "cell_type": "code",
   "execution_count": 63,
   "id": "b22c73a9",
   "metadata": {},
   "outputs": [],
   "source": [
    "'''5) Как выяснилось, для дальнейшего анализа нам не понадобятся колонки sex и age – удалите их.'''\n",
    "df.drop(['sex','age'],axis=1,inplace=True)"
   ]
  },
  {
   "cell_type": "code",
   "execution_count": 64,
   "id": "43b43501",
   "metadata": {},
   "outputs": [
    {
     "data": {
      "text/html": [
       "<div>\n",
       "<style scoped>\n",
       "    .dataframe tbody tr th:only-of-type {\n",
       "        vertical-align: middle;\n",
       "    }\n",
       "\n",
       "    .dataframe tbody tr th {\n",
       "        vertical-align: top;\n",
       "    }\n",
       "\n",
       "    .dataframe thead th {\n",
       "        text-align: right;\n",
       "    }\n",
       "</style>\n",
       "<table border=\"1\" class=\"dataframe\">\n",
       "  <thead>\n",
       "    <tr style=\"text-align: right;\">\n",
       "      <th></th>\n",
       "      <th>client_id</th>\n",
       "      <th>wealth</th>\n",
       "    </tr>\n",
       "  </thead>\n",
       "  <tbody>\n",
       "    <tr>\n",
       "      <th>0</th>\n",
       "      <td>NaN</td>\n",
       "      <td>None</td>\n",
       "    </tr>\n",
       "    <tr>\n",
       "      <th>1</th>\n",
       "      <td>3898.0</td>\n",
       "      <td>high</td>\n",
       "    </tr>\n",
       "    <tr>\n",
       "      <th>4</th>\n",
       "      <td>5736.0</td>\n",
       "      <td>high</td>\n",
       "    </tr>\n",
       "  </tbody>\n",
       "</table>\n",
       "</div>"
      ],
      "text/plain": [
       "   client_id wealth\n",
       "0        NaN   None\n",
       "1     3898.0   high\n",
       "4     5736.0   high"
      ]
     },
     "execution_count": 64,
     "metadata": {},
     "output_type": "execute_result"
    }
   ],
   "source": [
    "'''6) А теперь проверим, есть ли в нашей таблице df дубликаты по полю client_id – дропните все строки, в которых значения в колонке client_id повторяются.\n",
    "'''\n",
    "df = df.drop_duplicates(subset=['client_id'])\n",
    "df"
   ]
  },
  {
   "cell_type": "code",
   "execution_count": 65,
   "id": "898e8087",
   "metadata": {},
   "outputs": [
    {
     "data": {
      "text/plain": [
       "[1, 3, 2]"
      ]
     },
     "execution_count": 65,
     "metadata": {},
     "output_type": "execute_result"
    }
   ],
   "source": [
    "'''7) Небольшой перерыв на чистый питон. В списке numbers содержатся числа. Добавьте через цикл в список positive_numbers положительные числа из numbers. При этом, если вам попался 0, то нужно прекратить этот цикл.\n",
    "Например,\n",
    "numbers = [1, -2, 3, 0, -3, 2]\n",
    "Тогда positive_numbers должен быть:\n",
    "positive_numbers = [1, 3]'''\n",
    "numbers = [1, -2, 3, 0, -3, 2]\n",
    "positive_numbers = [i for i in numbers if i>0]\n",
    "positive_numbers"
   ]
  },
  {
   "cell_type": "code",
   "execution_count": 66,
   "id": "df9daea6",
   "metadata": {},
   "outputs": [],
   "source": [
    "'''8) Продолжим анализ данных по поездкам. В предыдущем уроке вы изучили распределения оценок водителей и клиентов.\n",
    "Теперь посмотрим на колонки со временем!\n",
    "Сохраните данные, находящиеся в папке (taxi_peru.csv), в переменную taxi, разделитель – ;. \n",
    "Затем приведите столбцы start_at, end_at, arrived_at к формату даты, используя pd.to_datetime(). \n",
    "Отфильтруйте данные и оставьте наблюдения со статусом заказа \"asap\" и \"reserved\" (start_type) .'''\n",
    "taxi = pd.read_csv(r'C:\\Users\\asus\\Desktop\\DA_projects\\karpov\\band3\\task1\\taxi_peru.csv',sep=';')"
   ]
  },
  {
   "cell_type": "code",
   "execution_count": 67,
   "id": "26aaa54f",
   "metadata": {},
   "outputs": [],
   "source": [
    "taxi['start_at'] = pd.to_datetime(taxi['start_at'])\n",
    "taxi['end_at'] = pd.to_datetime(taxi['end_at'])\n",
    "taxi['arrived_at'] = pd.to_datetime(taxi['arrived_at'])"
   ]
  },
  {
   "cell_type": "code",
   "execution_count": 68,
   "id": "c363f315",
   "metadata": {},
   "outputs": [],
   "source": [
    "taxi = taxi[(taxi['start_type']=='asap')|(taxi['start_type']=='reserved')]"
   ]
  },
  {
   "cell_type": "code",
   "execution_count": 69,
   "id": "beeacb2b",
   "metadata": {},
   "outputs": [],
   "source": [
    "'''9) ⭐️Задание со звёздочкой!⭐️\n",
    "Создайте колонку wait_time, в которой будет храниться разница между временем подачи машины (arrived_at) и временем заказа (start_at) в минутах.\n",
    "Чтобы сконвертировать полученный результат в минуты, можно использовать метод  .astype('timedelta64[m]')\n",
    "'''\n",
    "taxi['wait_time'] = (taxi['arrived_at']-taxi['start_at']).astype('timedelta64[m]')"
   ]
  },
  {
   "cell_type": "code",
   "execution_count": 74,
   "id": "b5bfb75b",
   "metadata": {},
   "outputs": [
    {
     "data": {
      "text/plain": [
       "'8e37a68fab5f31a5e2c1b5f77c6bb9e5'"
      ]
     },
     "execution_count": 74,
     "metadata": {},
     "output_type": "execute_result"
    }
   ],
   "source": [
    "'''9.1) ⭐️Задание со звёздочкой!⭐️\n",
    "Посмотрим, какие водители опаздывали на заказы к определенному времени (start_type == 'reserved'). Опозданием считается время ожидания wait_time > 0.0.\n",
    "Сгруппируйте отфильтрованные данные по driver_id и в качестве ответа укажите id водителя, который опоздал на заказ интересующего нас типа наибольшее число раз\n",
    "'''\n",
    "taxi[(taxi['start_type']=='reserved')&(taxi['wait_time']>0)]['user_id'].value_counts().idxmax()"
   ]
  },
  {
   "cell_type": "code",
   "execution_count": 83,
   "id": "9a8d84ca",
   "metadata": {},
   "outputs": [],
   "source": [
    "'''11) ⭐️Задание со звёздочкой!⭐️\n",
    "Добавьте столбец month, где будет храниться месяц, в котором был сделан заказ (start_at), как номер, и столбец weekday – название дня недели. \n",
    "'''\n",
    "taxi['month'] = taxi['start_at'].dt.strftime('%m')\n",
    "taxi['weekday'] = taxi['start_at'].dt.strftime('%A')"
   ]
  },
  {
   "cell_type": "code",
   "execution_count": 99,
   "id": "563c7ae3",
   "metadata": {},
   "outputs": [
    {
     "data": {
      "image/png": "[encoded data removed]",
      "text/plain": [
       "<Figure size 720x360 with 1 Axes>"
      ]
     },
     "metadata": {
      "needs_background": "light"
     },
     "output_type": "display_data"
    }
   ],
   "source": [
    "'''12) ⭐️Задание со звёздочкой!⭐️\n",
    "Постройте график числа заказов по месяцам (month). Подумайте, с чем может быть связана полученная картина. \n",
    "Вопрос: в каком летнем месяце было сделано наименьшее число заказов? В качестве ответа введите номер месяца (6, 7 или 8). \n",
    "'''\n",
    "import matplotlib.pyplot as plt \n",
    "plt.figure(figsize=(10,5))\n",
    "plt.bar(taxi['month'].unique(),taxi['month'].value_counts())\n",
    "plt.xlabel('month',fontsize=20)\n",
    "plt.ylabel('count',fontsize=20)\n",
    "plt.show()"
   ]
  },
  {
   "cell_type": "code",
   "execution_count": 107,
   "id": "ea680dd9",
   "metadata": {},
   "outputs": [
    {
     "data": {
      "text/plain": [
       "'07'"
      ]
     },
     "execution_count": 107,
     "metadata": {},
     "output_type": "execute_result"
    }
   ],
   "source": [
    "taxi[(taxi['month']=='06')|(taxi['month']=='07')|(taxi['month']=='08')]['month'].value_counts().idxmin()"
   ]
  },
  {
   "cell_type": "code",
   "execution_count": 113,
   "id": "6e0b1c52",
   "metadata": {},
   "outputs": [
    {
     "data": {
      "image/png": "[encoded data removed]",
      "text/plain": [
       "<Figure size 720x360 with 1 Axes>"
      ]
     },
     "metadata": {
      "needs_background": "light"
     },
     "output_type": "display_data"
    }
   ],
   "source": [
    "'''13) ⭐️Задание со звёздочкой!⭐️\n",
    "А теперь – график по дням недели (weekday). Задать порядок столбиков на графике можно с помощью аргумента order, которому нужно передать список названий в нужном порядке. Например: \n",
    "sns.countplot(data['column'], order=['One', 'Two', 'Three'])\n",
    "Вопрос: в какой день недели суммарно поступило меньше всего заказов?\n",
    "'''\n",
    "import seaborn as sns\n",
    "plt.figure(figsize=(10,5))\n",
    "sns.countplot(data=taxi,x='weekday')\n",
    "plt.show()"
   ]
  },
  {
   "cell_type": "code",
   "execution_count": 131,
   "id": "20b438a7",
   "metadata": {},
   "outputs": [
    {
     "data": {
      "text/plain": [
       "<AxesSubplot:>"
      ]
     },
     "execution_count": 131,
     "metadata": {},
     "output_type": "execute_result"
    },
    {
     "data": {
      "image/png": "[encoded data removed]",
      "text/plain": [
       "<Figure size 720x360 with 1 Axes>"
      ]
     },
     "metadata": {
      "needs_background": "light"
     },
     "output_type": "display_data"
    }
   ],
   "source": [
    "'''14) ⭐️Задание со звёздочкой!⭐️\n",
    "Также мы можем посмотреть на несколько простых метрик, показывающих число уникальных пользователей за определённый период:\n",
    "DAU (daily active users) – число уникальных пользователей за день\n",
    "WAU (weekly active users) – число уникальных пользователей за неделю\n",
    "MAU (monthly active users) – число уникальных пользователей за месяц\n",
    "Активные пользователи – те, кто воспользовался приложением и сделал хотя бы один заказ за выбранный промежуток времени.\n",
    "Постройте график MAU и выберите верные утверждения. '''\n",
    "mau = taxi.groupby('month',as_index=False).agg({'user_id':'nunique'})\n",
    "plt.figure(figsize=(10,5))\n",
    "sns.lineplot(data=mau,markers='p')"
   ]
  }
 ],
 "metadata": {
  "kernelspec": {
   "display_name": "Python 3 (ipykernel)",
   "language": "python",
   "name": "python3"
  },
  "language_info": {
   "codemirror_mode": {
    "name": "ipython",
    "version": 3
   },
   "file_extension": ".py",
   "mimetype": "text/x-python",
   "name": "python",
   "nbconvert_exporter": "python",
   "pygments_lexer": "ipython3",
   "version": "3.9.6"
  }
 },
 "nbformat": 4,
 "nbformat_minor": 5
}
